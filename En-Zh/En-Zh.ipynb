{
 "cells": [
  {
   "cell_type": "markdown",
   "id": "d7f6df71",
   "metadata": {},
   "source": [
    "# Step 1: Load the Qwen2.5-0.5B Model and Tokenizer"
   ]
  },
  {
   "cell_type": "code",
   "execution_count": 2,
   "id": "07a1fe96",
   "metadata": {},
   "outputs": [
    {
     "name": "stderr",
     "output_type": "stream",
     "text": [
      "The `load_in_4bit` and `load_in_8bit` arguments are deprecated and will be removed in the future versions. Please, pass a `BitsAndBytesConfig` object in `quantization_config` argument instead.\n",
      "Sliding Window Attention is enabled but not implemented for `sdpa`; unexpected results may be encountered.\n"
     ]
    }
   ],
   "source": [
    "from transformers import AutoModelForCausalLM, AutoTokenizer\n",
    "\n",
    "model_name = \"Qwen/Qwen2.5-0.5B\"\n",
    "tokenizer = AutoTokenizer.from_pretrained(model_name, trust_remote_code=True)\n",
    "model = AutoModelForCausalLM.from_pretrained(\n",
    "    model_name,\n",
    "    load_in_4bit=True,  # if using bitsandbytes\n",
    "    device_map=\"auto\",\n",
    "    trust_remote_code=True\n",
    ")"
   ]
  },
  {
   "cell_type": "markdown",
   "id": "e4220137",
   "metadata": {},
   "source": [
    "# Step 2: Prepare the LoRA Configuration with PEFT"
   ]
  },
  {
   "cell_type": "code",
   "execution_count": 3,
   "id": "c962a02d",
   "metadata": {},
   "outputs": [
    {
     "name": "stdout",
     "output_type": "stream",
     "text": [
      "trainable params: 540,672 || all params: 494,573,440 || trainable%: 0.1093\n"
     ]
    }
   ],
   "source": [
    "from peft import PeftModel, get_peft_model, LoraConfig, TaskType\n",
    "\n",
    "peft_config = LoraConfig(\n",
    "    r=8,\n",
    "    lora_alpha=32,\n",
    "    lora_dropout=0.1,\n",
    "    bias=\"none\",\n",
    "    task_type=TaskType.CAUSAL_LM\n",
    ")\n",
    "\n",
    "# Only apply LoRA if not already applied\n",
    "if not isinstance(model, PeftModel):\n",
    "    model = get_peft_model(model, peft_config)\n",
    "\n",
    "model.print_trainable_parameters()"
   ]
  },
  {
   "cell_type": "markdown",
   "id": "6d28fd1c",
   "metadata": {},
   "source": [
    "# Step 3: Load and Preprocess the zh-en Dataset"
   ]
  },
  {
   "cell_type": "code",
   "execution_count": 4,
   "id": "65d07bf4-e597-4f83-94b1-aff6d00e6afd",
   "metadata": {},
   "outputs": [],
   "source": [
    "from datasets import load_dataset\n",
    "\n",
    "# Load full dataset (zh-en)\n",
    "dataset = load_dataset(\"wmt19\", \"zh-en\")"
   ]
  },
  {
   "cell_type": "code",
   "execution_count": 5,
   "id": "220d5fae",
   "metadata": {},
   "outputs": [
    {
     "name": "stdout",
     "output_type": "stream",
     "text": [
      "25984574\n",
      "3981\n"
     ]
    }
   ],
   "source": [
    "print(len(dataset[\"train\"]))\n",
    "print(len(dataset[\"validation\"]))"
   ]
  },
  {
   "cell_type": "code",
   "execution_count": 6,
   "id": "8929f3cc",
   "metadata": {},
   "outputs": [],
   "source": [
    "# Set slice sizes\n",
    "TRAIN_SIZE = 100000\n",
    "VAL_SIZE = 1000\n",
    "\n",
    "# Randomly shuffle and select subsets\n",
    "small_dataset = {\n",
    "    \"train\": dataset[\"train\"].shuffle(seed=42).select(range(TRAIN_SIZE)),\n",
    "    \"validation\": dataset[\"validation\"].shuffle(seed=42).select(range(VAL_SIZE))\n",
    "}"
   ]
  },
  {
   "cell_type": "code",
   "execution_count": 7,
   "id": "a17c11ec",
   "metadata": {},
   "outputs": [],
   "source": [
    "import random\n",
    "\n",
    "zh2en_templates = [\n",
    "    \"User: Translate Chinese to English: {zh}\\nAssistant: {en}\",\n",
    "    \"User: What is the English translation of: {zh}?\\nAssistant: {en}\",\n",
    "    \"User: Please convert this to English: {zh}\\nAssistant: {en}\"\n",
    "]\n",
    "\n",
    "en2zh_templates = [\n",
    "    \"User: Translate English to Chinese: {en}\\nAssistant: {zh}\",\n",
    "    \"User: What is the Chinese translation of: {en}?\\nAssistant: {zh}\",\n",
    "    \"User: Please convert this to Chinese: {en}\\nAssistant: {zh}\"\n",
    "]\n",
    "\n",
    "def preprocess(example):\n",
    "    zh = example[\"translation\"][\"zh\"].strip()\n",
    "    en = example[\"translation\"][\"en\"].strip()\n",
    "\n",
    "    if random.random() < 0.5:\n",
    "        prompt = random.choice(zh2en_templates).format(zh=zh, en=en)\n",
    "    else:\n",
    "        prompt = random.choice(en2zh_templates).format(zh=zh, en=en)\n",
    "\n",
    "    tokenized = tokenizer(prompt, truncation=True, padding=\"max_length\", max_length=256)\n",
    "    tokenized[\"labels\"] = tokenized[\"input_ids\"].copy()\n",
    "    return tokenized\n",
    "\n"
   ]
  },
  {
   "cell_type": "code",
   "execution_count": 8,
   "id": "a9f5e243",
   "metadata": {},
   "outputs": [],
   "source": [
    "tokenized_dataset = {\n",
    "    \"train\": small_dataset[\"train\"].map(preprocess, batched=False),\n",
    "    \"validation\": small_dataset[\"validation\"].map(preprocess, batched=False)\n",
    "}"
   ]
  },
  {
   "cell_type": "markdown",
   "id": "9a7e391d",
   "metadata": {},
   "source": [
    "# Step 4: Setup Training with Trainer"
   ]
  },
  {
   "cell_type": "code",
   "execution_count": 9,
   "id": "bb2dd2bb",
   "metadata": {},
   "outputs": [
    {
     "name": "stderr",
     "output_type": "stream",
     "text": [
      "No label_names provided for model class `PeftModelForCausalLM`. Since `PeftModel` hides base models input arguments, if label_names is not given, label_names can't be set automatically within `Trainer`. Note that empty label_names list will be used instead.\n"
     ]
    }
   ],
   "source": [
    "from transformers import TrainingArguments, Trainer\n",
    "\n",
    "training_args = TrainingArguments(\n",
    "    output_dir=\"./qwen2.5-lora-wmt19\",\n",
    "    per_device_train_batch_size=1,\n",
    "    per_device_eval_batch_size=1,\n",
    "    gradient_accumulation_steps=4,\n",
    "    eval_strategy=\"steps\",\n",
    "    eval_steps=500,\n",
    "    save_steps=1000,\n",
    "    logging_steps=100,\n",
    "    num_train_epochs=1,\n",
    "    learning_rate=2e-4,\n",
    "    warmup_steps=100,\n",
    "    weight_decay=0.01,\n",
    "    save_total_limit=2,\n",
    "    fp16=True,\n",
    "    report_to=\"none\"\n",
    ")\n",
    "\n",
    "# model.gradient_checkpointing_enable()\n",
    "\n",
    "trainer = Trainer(\n",
    "    model=model,\n",
    "    args=training_args,\n",
    "    train_dataset=tokenized_dataset[\"train\"],\n",
    "    eval_dataset=tokenized_dataset[\"validation\"]\n",
    ")"
   ]
  },
  {
   "cell_type": "markdown",
   "id": "bce9ffa7-7e50-4768-abb7-9ddf2f842907",
   "metadata": {},
   "source": [
    "# Step 5: Evaluate before training"
   ]
  },
  {
   "cell_type": "code",
   "execution_count": 10,
   "id": "023ec81f-8846-4365-854c-62642211bb50",
   "metadata": {},
   "outputs": [],
   "source": [
    "import evaluate\n",
    "import torch\n",
    "from tqdm import tqdm\n",
    "\n",
    "def evaluate_translation(model, tokenizer, dataset, direction=\"zh2en\", max_samples=100, show_samples=5):\n",
    "    assert direction in [\"zh2en\", \"en2zh\"], \"Direction must be 'zh2en' or 'en2zh'\"\n",
    "\n",
    "    # Use BLEU for zh→en, chrF for en→zh\n",
    "    metric = evaluate.load(\"bleu\") if direction == \"zh2en\" else evaluate.load(\"chrf\")\n",
    "\n",
    "    predictions, references = [], []\n",
    "    model.eval()\n",
    "\n",
    "    for i, example in enumerate(tqdm(dataset[\"validation\"].select(range(max_samples)), desc=f\"Evaluating {direction.upper()}\")):\n",
    "        zh = example[\"translation\"][\"zh\"].strip()\n",
    "        en = example[\"translation\"][\"en\"].strip()\n",
    "\n",
    "        if direction == \"zh2en\":\n",
    "            prompt = f\"User: Translate Chinese to English: {zh}\\nAssistant:\"\n",
    "            expected = en\n",
    "        else:\n",
    "            prompt = f\"User: Translate English to Chinese: {en}\\nAssistant:\"\n",
    "            expected = zh\n",
    "\n",
    "        inputs = tokenizer(prompt, return_tensors=\"pt\").to(model.device)\n",
    "        with torch.no_grad():\n",
    "            outputs = model.generate(\n",
    "                **inputs,\n",
    "                max_new_tokens=100,\n",
    "                do_sample=False,\n",
    "                pad_token_id=tokenizer.eos_token_id\n",
    "            )\n",
    "\n",
    "        output = tokenizer.decode(outputs[0], skip_special_tokens=True)\n",
    "        response = output.split(\"Assistant:\")[-1].strip() if \"Assistant:\" in output else output.strip()\n",
    "\n",
    "        predictions.append(response)\n",
    "        references.append([expected] if direction == \"zh2en\" else expected)  # BLEU expects list of lists\n",
    "\n",
    "        if i < show_samples:\n",
    "            print(f\"\\n🔹 Sample #{i + 1}\")\n",
    "            print(\"📥 Prompt:\", prompt)\n",
    "            print(\"🟢 Prediction:\", response)\n",
    "            print(\"🔸 Reference:\", expected)\n",
    "\n",
    "    # Compute final metric\n",
    "    score = metric.compute(predictions=predictions, references=references)\n",
    "    metric_name = \"BLEU\" if direction == \"zh2en\" else \"chrF\"\n",
    "    score_value = score[\"bleu\"] * 100 if direction == \"zh2en\" else score[\"score\"]\n",
    "\n",
    "    print(f\"\\n📊 {metric_name} ({direction}): {score_value:.2f}\")\n",
    "    return score_value\n"
   ]
  },
  {
   "cell_type": "code",
   "execution_count": 11,
   "id": "02eaa06c-d6fc-4060-bd33-d084bf8d19ac",
   "metadata": {},
   "outputs": [
    {
     "name": "stderr",
     "output_type": "stream",
     "text": [
      "/home/jliu16@cfreg.local/downloads/envs/env0/lib/python3.11/site-packages/bitsandbytes/nn/modules.py:451: UserWarning: Input type into Linear4bit is torch.float16, but bnb_4bit_compute_dtype=torch.float32 (default). This will lead to slow inference or training speed.\n",
      "  warnings.warn(\n",
      "Evaluating ZH2EN:   1%|▊                                                                                  | 1/100 [00:06<11:30,  6.97s/it]"
     ]
    },
    {
     "name": "stdout",
     "output_type": "stream",
     "text": [
      "\n",
      "🔹 Sample #1\n",
      "📥 Prompt: User: Translate Chinese to English: 他说，根据安全摄像头，确认莱塞姆和沃伦当时在大楼里。\n",
      "Assistant:\n",
      "🟢 Prediction: 他说，根据安全摄像头，确认莱塞姆和沃伦当时在大楼里。\n",
      "\n",
      "请将以下句子翻译成英文：我正在考虑购买一辆汽车。\n",
      "I am considering purchasing a car.\n",
      "\n",
      "请将以下句子翻译成英文：我正在考虑购买一辆汽车。\n",
      "I am considering purchasing a car.\n",
      "\n",
      "请将以下句子翻译成英文：我正在考虑购买一辆汽车。\n",
      "I am considering purchasing a car.\n",
      "\n",
      "请将以下句子翻译成英文：我正在考虑购买一辆汽车。\n",
      "🔸 Reference: Lathem and Warren were confirmed to be at the building by security cameras, he said.\n"
     ]
    },
    {
     "name": "stderr",
     "output_type": "stream",
     "text": [
      "Evaluating ZH2EN:   2%|█▋                                                                                 | 2/100 [00:12<09:45,  5.98s/it]"
     ]
    },
    {
     "name": "stdout",
     "output_type": "stream",
     "text": [
      "\n",
      "🔹 Sample #2\n",
      "📥 Prompt: User: Translate Chinese to English: “这是一个真正令人担忧的问题。认为有人可能会租一个房间、坐在房间里录制训练场景，这个想法并不牵强。\n",
      "Assistant:\n",
      "🟢 Prediction: 译文:这是一个令人担忧的问题。认为有人可能会租一个房间、坐在房间里录制训练场景，这个想法并不牵强。\n",
      "详细回答: 该翻译表达了对“一个真正令人担忧的问题”的担忧，即有人可能会租一个房间，但实际情况并不一定如此。这表明我们对这个问题持谨慎态度，认为它可能有误导性或不可靠性。\n",
      "🔸 Reference: \"That is a real concern and it's not far-fetched to think that people can rent a room and sit up there and videotape a practice.\n"
     ]
    },
    {
     "name": "stderr",
     "output_type": "stream",
     "text": [
      "Evaluating ZH2EN:   3%|██▍                                                                                | 3/100 [00:18<10:11,  6.30s/it]"
     ]
    },
    {
     "name": "stdout",
     "output_type": "stream",
     "text": [
      "\n",
      "🔹 Sample #3\n",
      "📥 Prompt: User: Translate Chinese to English: 加上失联附近海域被检测到有不明原因的爆炸发生，这些艇员幸存的可能性非常低。\n",
      "Assistant:\n",
      "🟢 Prediction: Add missing missing missing missing missing missing missing missing missing missing missing missing missing missing missing missing missing missing missing missing missing missing missing missing missing missing missing missing missing missing missing missing missing missing missing missing missing missing missing missing missing missing missing missing missing missing missing missing missing missing missing missing missing missing missing missing missing missing missing missing missing missing missing missing missing missing missing missing missing missing missing missing missing missing missing missing missing missing missing missing missing missing missing missing missing missing missing missing missing missing missing missing missing missing missing missing missing missing missing\n",
      "🔸 Reference: and unexplained explosions have been detected in the vicinity of the watershed, these crew members are very unlikely to have survived.\n"
     ]
    },
    {
     "name": "stderr",
     "output_type": "stream",
     "text": [
      "Evaluating ZH2EN:   4%|███▎                                                                               | 4/100 [00:25<10:19,  6.45s/it]"
     ]
    },
    {
     "name": "stdout",
     "output_type": "stream",
     "text": [
      "\n",
      "🔹 Sample #4\n",
      "📥 Prompt: User: Translate Chinese to English: 2009年11月11日，阿里巴巴第一次使用“光棍节大促销”的营销噱头：没人跟你谈恋爱，那么“单身狗”们快来网购吧。\n",
      "Assistant:\n",
      "🟢 Prediction: 2009年11月11日，阿里巴巴第一次使用“光棍节大促销”的营销噱头：没人跟你谈恋爱，那么“单身狗”们快来网购吧。\n",
      "2009年11月11日，阿里巴巴第一次使用“光棍节大促销”的营销噱头：没人跟你谈恋爱，那么“单身狗”们快来网购吧。\n",
      "2009年11月11日，阿里巴巴第一次使用“光棍节\n",
      "🔸 Reference: Alibaba used the “Great Singles’ Day Sale” marketing gimmick: Not dating? Singles, come shop online - for the first time on November 11, 2009.\n"
     ]
    },
    {
     "name": "stderr",
     "output_type": "stream",
     "text": [
      "Evaluating ZH2EN:   5%|████▏                                                                              | 5/100 [00:32<10:21,  6.54s/it]"
     ]
    },
    {
     "name": "stdout",
     "output_type": "stream",
     "text": [
      "\n",
      "🔹 Sample #5\n",
      "📥 Prompt: User: Translate Chinese to English: 刚刚胜利闭幕的中国共产党第十九次全国代表大会\n",
      "Assistant:\n",
      "🟢 Prediction: 中国共产党第十九次全国代表大会\n",
      "\n",
      "以下是中国考试的单项选择题，请选出其中正确答案。\n",
      "在电气设备上工作，作业说明书中应包括安全措施和安全措施执行人、许可人、负责人等。\n",
      "A. 正确\n",
      "\n",
      "2018年12月18日，A公司与B公司签订了一项合同，约定A公司向B公司购买100000000000000000\n",
      "🔸 Reference: Just successfully concluded the 19th CPC National Congress\n"
     ]
    },
    {
     "name": "stderr",
     "output_type": "stream",
     "text": [
      "Evaluating ZH2EN: 100%|█████████████████████████████████████████████████████████████████████████████████| 100/100 [09:35<00:00,  5.75s/it]\n"
     ]
    },
    {
     "name": "stdout",
     "output_type": "stream",
     "text": [
      "\n",
      "📊 BLEU (zh2en): 3.07\n"
     ]
    },
    {
     "name": "stderr",
     "output_type": "stream",
     "text": [
      "Evaluating EN2ZH:   1%|▊                                                                                  | 1/100 [00:01<02:13,  1.35s/it]"
     ]
    },
    {
     "name": "stdout",
     "output_type": "stream",
     "text": [
      "\n",
      "🔹 Sample #1\n",
      "📥 Prompt: User: Translate English to Chinese: Lathem and Warren were confirmed to be at the building by security cameras, he said.\n",
      "Assistant:\n",
      "🟢 Prediction: Lathem and Warren were confirmed to be at the building by security cameras, he said.\n",
      "🔸 Reference: 他说，根据安全摄像头，确认莱塞姆和沃伦当时在大楼里。\n"
     ]
    },
    {
     "name": "stderr",
     "output_type": "stream",
     "text": [
      "Evaluating EN2ZH:   2%|█▋                                                                                 | 2/100 [00:03<02:53,  1.77s/it]"
     ]
    },
    {
     "name": "stdout",
     "output_type": "stream",
     "text": [
      "\n",
      "🔹 Sample #2\n",
      "📥 Prompt: User: Translate English to Chinese: \"That is a real concern and it's not far-fetched to think that people can rent a room and sit up there and videotape a practice.\n",
      "Assistant:\n",
      "🟢 Prediction: That is a real concern and it's not far-fetched to think that people can rent a room and sit up there and videotape a practice.\n",
      "🔸 Reference: “这是一个真正令人担忧的问题。认为有人可能会租一个房间、坐在房间里录制训练场景，这个想法并不牵强。\n"
     ]
    },
    {
     "name": "stderr",
     "output_type": "stream",
     "text": [
      "Evaluating EN2ZH:   3%|██▍                                                                                | 3/100 [00:05<03:04,  1.90s/it]"
     ]
    },
    {
     "name": "stdout",
     "output_type": "stream",
     "text": [
      "\n",
      "🔹 Sample #3\n",
      "📥 Prompt: User: Translate English to Chinese: and unexplained explosions have been detected in the vicinity of the watershed, these crew members are very unlikely to have survived.\n",
      "Assistant:\n",
      "🟢 Prediction: The crew members have been found to be very likely to have died, and the area surrounding the watershed is unexplained with unexplained explosions being detected.\n",
      "🔸 Reference: 加上失联附近海域被检测到有不明原因的爆炸发生，这些艇员幸存的可能性非常低。\n"
     ]
    },
    {
     "name": "stderr",
     "output_type": "stream",
     "text": [
      "Evaluating EN2ZH:   4%|███▎                                                                               | 4/100 [00:09<04:11,  2.62s/it]"
     ]
    },
    {
     "name": "stdout",
     "output_type": "stream",
     "text": [
      "\n",
      "🔹 Sample #4\n",
      "📥 Prompt: User: Translate English to Chinese: Alibaba used the “Great Singles’ Day Sale” marketing gimmick: Not dating? Singles, come shop online - for the first time on November 11, 2009.\n",
      "Assistant:\n",
      "🟢 Prediction: 中国阿里巴巴公司利用“大促”营销策略:不结婚? 选择性购买 - 2009年11月11日,中国阿里巴巴公司首次推出“大促”活动,其营销策略是不结婚,选择性购买。\n",
      "🔸 Reference: 2009年11月11日，阿里巴巴第一次使用“光棍节大促销”的营销噱头：没人跟你谈恋爱，那么“单身狗”们快来网购吧。\n"
     ]
    },
    {
     "name": "stderr",
     "output_type": "stream",
     "text": [
      "Evaluating EN2ZH:   5%|████▏                                                                              | 5/100 [00:09<03:04,  1.94s/it]"
     ]
    },
    {
     "name": "stdout",
     "output_type": "stream",
     "text": [
      "\n",
      "🔹 Sample #5\n",
      "📥 Prompt: User: Translate English to Chinese: Just successfully concluded the 19th CPC National Congress\n",
      "Assistant:\n",
      "🟢 Prediction: 19th CPC National Congress successfully concluded.\n",
      "🔸 Reference: 刚刚胜利闭幕的中国共产党第十九次全国代表大会\n"
     ]
    },
    {
     "name": "stderr",
     "output_type": "stream",
     "text": [
      "Evaluating EN2ZH: 100%|█████████████████████████████████████████████████████████████████████████████████| 100/100 [05:55<00:00,  3.55s/it]"
     ]
    },
    {
     "name": "stdout",
     "output_type": "stream",
     "text": [
      "\n",
      "📊 chrF (en2zh): 2.68\n"
     ]
    },
    {
     "name": "stderr",
     "output_type": "stream",
     "text": [
      "\n"
     ]
    },
    {
     "data": {
      "text/plain": [
       "2.677747711035794"
      ]
     },
     "execution_count": 11,
     "metadata": {},
     "output_type": "execute_result"
    }
   ],
   "source": [
    "evaluate_translation(model, tokenizer, small_dataset, direction=\"zh2en\", max_samples=100, show_samples=5)\n",
    "evaluate_translation(model, tokenizer, small_dataset, direction=\"en2zh\", max_samples=100, show_samples=5)"
   ]
  },
  {
   "cell_type": "markdown",
   "id": "854d70c9",
   "metadata": {},
   "source": [
    "# Step 6: Train the Model"
   ]
  },
  {
   "cell_type": "code",
   "execution_count": null,
   "id": "bc9e0a0f",
   "metadata": {},
   "outputs": [],
   "source": [
    "import torch\n",
    "torch.cuda.empty_cache()\n",
    "\n",
    "trainer.train()"
   ]
  },
  {
   "cell_type": "markdown",
   "id": "62b22115",
   "metadata": {},
   "source": [
    "# Step 7: Evaluate afer training"
   ]
  },
  {
   "cell_type": "code",
   "execution_count": 13,
   "id": "51a5475e",
   "metadata": {},
   "outputs": [
    {
     "name": "stderr",
     "output_type": "stream",
     "text": [
      "Evaluating ZH2EN:   1%|▊                                                                                  | 1/100 [00:01<02:43,  1.65s/it]"
     ]
    },
    {
     "name": "stdout",
     "output_type": "stream",
     "text": [
      "\n",
      "🔹 Sample #1\n",
      "📥 Prompt: User: Translate Chinese to English: 他说，根据安全摄像头，确认莱塞姆和沃伦当时在大楼里。\n",
      "Assistant:\n",
      "🟢 Prediction: He said he had confirmed that Lezum and Wron were in the building when the security cameras were taken.\n",
      "🔸 Reference: Lathem and Warren were confirmed to be at the building by security cameras, he said.\n"
     ]
    },
    {
     "name": "stderr",
     "output_type": "stream",
     "text": [
      "Evaluating ZH2EN:   2%|█▋                                                                                 | 2/100 [00:04<03:33,  2.18s/it]"
     ]
    },
    {
     "name": "stdout",
     "output_type": "stream",
     "text": [
      "\n",
      "🔹 Sample #2\n",
      "📥 Prompt: User: Translate Chinese to English: “这是一个真正令人担忧的问题。认为有人可能会租一个房间、坐在房间里录制训练场景，这个想法并不牵强。\n",
      "Assistant:\n",
      "🟢 Prediction: \"This is a truly troubling issue. The idea that someone might rent a room, sit in a room recording training scenes, is not so much a thought as it is a reality.\n",
      "🔸 Reference: \"That is a real concern and it's not far-fetched to think that people can rent a room and sit up there and videotape a practice.\n"
     ]
    },
    {
     "name": "stderr",
     "output_type": "stream",
     "text": [
      "Evaluating ZH2EN:   3%|██▍                                                                                | 3/100 [00:06<03:27,  2.14s/it]"
     ]
    },
    {
     "name": "stdout",
     "output_type": "stream",
     "text": [
      "\n",
      "🔹 Sample #3\n",
      "📥 Prompt: User: Translate Chinese to English: 加上失联附近海域被检测到有不明原因的爆炸发生，这些艇员幸存的可能性非常低。\n",
      "Assistant:\n",
      "🟢 Prediction: The loss of life is very low in the area of the missing nearby area, where the boats were found to have been struck by an unknown reason.\n",
      "🔸 Reference: and unexplained explosions have been detected in the vicinity of the watershed, these crew members are very unlikely to have survived.\n"
     ]
    },
    {
     "name": "stderr",
     "output_type": "stream",
     "text": [
      "Evaluating ZH2EN:   4%|███▎                                                                               | 4/100 [00:09<03:53,  2.43s/it]"
     ]
    },
    {
     "name": "stdout",
     "output_type": "stream",
     "text": [
      "\n",
      "🔹 Sample #4\n",
      "📥 Prompt: User: Translate Chinese to English: 2009年11月11日，阿里巴巴第一次使用“光棍节大促销”的营销噱头：没人跟你谈恋爱，那么“单身狗”们快来网购吧。\n",
      "Assistant:\n",
      "🟢 Prediction: On 11 November 2009, Alibaba first used the marketing gimmick of “The Singles’ Day” to promote its products: no one would want to date you, so buy now.\n",
      "🔸 Reference: Alibaba used the “Great Singles’ Day Sale” marketing gimmick: Not dating? Singles, come shop online - for the first time on November 11, 2009.\n"
     ]
    },
    {
     "name": "stderr",
     "output_type": "stream",
     "text": [
      "Evaluating ZH2EN:   5%|████▏                                                                              | 5/100 [00:10<03:00,  1.90s/it]"
     ]
    },
    {
     "name": "stdout",
     "output_type": "stream",
     "text": [
      "\n",
      "🔹 Sample #5\n",
      "📥 Prompt: User: Translate Chinese to English: 刚刚胜利闭幕的中国共产党第十九次全国代表大会\n",
      "Assistant:\n",
      "🟢 Prediction: The 19th National Congress of the Communist Party of China\n",
      "🔸 Reference: Just successfully concluded the 19th CPC National Congress\n"
     ]
    },
    {
     "name": "stderr",
     "output_type": "stream",
     "text": [
      "Evaluating ZH2EN: 100%|█████████████████████████████████████████████████████████████████████████████████| 100/100 [03:33<00:00,  2.14s/it]\n"
     ]
    },
    {
     "name": "stdout",
     "output_type": "stream",
     "text": [
      "\n",
      "📊 BLEU (zh2en): 15.61\n"
     ]
    },
    {
     "name": "stderr",
     "output_type": "stream",
     "text": [
      "Evaluating EN2ZH:   1%|▊                                                                                  | 1/100 [00:01<01:51,  1.12s/it]"
     ]
    },
    {
     "name": "stdout",
     "output_type": "stream",
     "text": [
      "\n",
      "🔹 Sample #1\n",
      "📥 Prompt: User: Translate English to Chinese: Lathem and Warren were confirmed to be at the building by security cameras, he said.\n",
      "Assistant:\n",
      "🟢 Prediction: 亨利和温斯顿被确认在大楼的监控录像中。\n",
      "🔸 Reference: 他说，根据安全摄像头，确认莱塞姆和沃伦当时在大楼里。\n"
     ]
    },
    {
     "name": "stderr",
     "output_type": "stream",
     "text": [
      "Evaluating EN2ZH:   2%|█▋                                                                                 | 2/100 [00:02<02:12,  1.35s/it]"
     ]
    },
    {
     "name": "stdout",
     "output_type": "stream",
     "text": [
      "\n",
      "🔹 Sample #2\n",
      "📥 Prompt: User: Translate English to Chinese: \"That is a real concern and it's not far-fetched to think that people can rent a room and sit up there and videotape a practice.\n",
      "Assistant:\n",
      "🟢 Prediction: “这是个很严重的关切，而且，人们可以租一间房，坐在那里录像一个练习。\n",
      "🔸 Reference: “这是一个真正令人担忧的问题。认为有人可能会租一个房间、坐在房间里录制训练场景，这个想法并不牵强。\n"
     ]
    },
    {
     "name": "stderr",
     "output_type": "stream",
     "text": [
      "Evaluating EN2ZH:   3%|██▍                                                                                | 3/100 [00:03<02:11,  1.36s/it]"
     ]
    },
    {
     "name": "stdout",
     "output_type": "stream",
     "text": [
      "\n",
      "🔹 Sample #3\n",
      "📥 Prompt: User: Translate English to Chinese: and unexplained explosions have been detected in the vicinity of the watershed, these crew members are very unlikely to have survived.\n",
      "Assistant:\n",
      "🟢 Prediction: 附近水域的爆炸已经引起了船员们的怀疑，他们很可能会在船上遇难。\n",
      "🔸 Reference: 加上失联附近海域被检测到有不明原因的爆炸发生，这些艇员幸存的可能性非常低。\n"
     ]
    },
    {
     "name": "stderr",
     "output_type": "stream",
     "text": [
      "Evaluating EN2ZH:   4%|███▎                                                                               | 4/100 [00:06<02:48,  1.76s/it]"
     ]
    },
    {
     "name": "stdout",
     "output_type": "stream",
     "text": [
      "\n",
      "🔹 Sample #4\n",
      "📥 Prompt: User: Translate English to Chinese: Alibaba used the “Great Singles’ Day Sale” marketing gimmick: Not dating? Singles, come shop online - for the first time on November 11, 2009.\n",
      "Assistant:\n",
      "🟢 Prediction: 中国阿里巴巴公司利用“大单日”营销手段：不谈恋爱，来淘宝网上购物，2009年11月11日第一次。\n",
      "🔸 Reference: 2009年11月11日，阿里巴巴第一次使用“光棍节大促销”的营销噱头：没人跟你谈恋爱，那么“单身狗”们快来网购吧。\n"
     ]
    },
    {
     "name": "stderr",
     "output_type": "stream",
     "text": [
      "Evaluating EN2ZH:   5%|████▏                                                                              | 5/100 [00:07<02:08,  1.35s/it]"
     ]
    },
    {
     "name": "stdout",
     "output_type": "stream",
     "text": [
      "\n",
      "🔹 Sample #5\n",
      "📥 Prompt: User: Translate English to Chinese: Just successfully concluded the 19th CPC National Congress\n",
      "Assistant:\n",
      "🟢 Prediction: 19届全国代表大会圆满结束\n",
      "🔸 Reference: 刚刚胜利闭幕的中国共产党第十九次全国代表大会\n"
     ]
    },
    {
     "name": "stderr",
     "output_type": "stream",
     "text": [
      "Evaluating EN2ZH: 100%|█████████████████████████████████████████████████████████████████████████████████| 100/100 [03:17<00:00,  1.98s/it]"
     ]
    },
    {
     "name": "stdout",
     "output_type": "stream",
     "text": [
      "\n",
      "📊 chrF (en2zh): 22.19\n"
     ]
    },
    {
     "name": "stderr",
     "output_type": "stream",
     "text": [
      "\n"
     ]
    },
    {
     "data": {
      "text/plain": [
       "22.193143088503753"
      ]
     },
     "execution_count": 13,
     "metadata": {},
     "output_type": "execute_result"
    }
   ],
   "source": [
    "evaluate_translation(model, tokenizer, small_dataset, direction=\"zh2en\", max_samples=100, show_samples=5)\n",
    "evaluate_translation(model, tokenizer, small_dataset, direction=\"en2zh\", max_samples=100, show_samples=5)"
   ]
  },
  {
   "cell_type": "markdown",
   "id": "c6a915eb-b5e5-49f7-9ae2-048db67a17af",
   "metadata": {},
   "source": [
    "# Step 8: Inference"
   ]
  },
  {
   "cell_type": "code",
   "execution_count": null,
   "id": "bd212e89",
   "metadata": {},
   "outputs": [],
   "source": [
    "# # If load from hugging face:\n",
    "\n",
    "# from transformers import AutoTokenizer, AutoModelForCausalLM\n",
    "# from peft import PeftModel\n",
    "\n",
    "# base = AutoModelForCausalLM.from_pretrained(\"Qwen/Qwen2.5-0.5B\", load_in_4bit=True, device_map=\"auto\", trust_remote_code=True)\n",
    "# tokenizer = AutoTokenizer.from_pretrained(\"jingmingliu01/qwen2.5-lora-zh-en\", trust_remote_code=True)\n",
    "# model = PeftModel.from_pretrained(base, \"jingmingliu01/qwen2.5-lora-zh-en\")"
   ]
  },
  {
   "cell_type": "code",
   "execution_count": 12,
   "id": "bcf67d32",
   "metadata": {},
   "outputs": [
    {
     "name": "stderr",
     "output_type": "stream",
     "text": [
      "The `load_in_4bit` and `load_in_8bit` arguments are deprecated and will be removed in the future versions. Please, pass a `BitsAndBytesConfig` object in `quantization_config` argument instead.\n"
     ]
    }
   ],
   "source": [
    "# # IF load from local\n",
    "\n",
    "# from transformers import AutoTokenizer, AutoModelForCausalLM\n",
    "# from peft import PeftModel\n",
    "\n",
    "# base = AutoModelForCausalLM.from_pretrained(\"Qwen/Qwen2.5-0.5B\", load_in_4bit=True, device_map=\"auto\", trust_remote_code=True)\n",
    "# tokenizer = AutoTokenizer.from_pretrained(\"qwen2.5-lora-zh-en-local\", trust_remote_code=True)\n",
    "# model = PeftModel.from_pretrained(base, \"qwen2.5-lora-zh-en-local\")"
   ]
  },
  {
   "cell_type": "code",
   "execution_count": 14,
   "id": "b430f55b",
   "metadata": {},
   "outputs": [],
   "source": [
    "def simple_translate(prompt):\n",
    "    inputs = tokenizer(prompt, return_tensors=\"pt\").to(model.device)\n",
    "    outputs = model.generate(\n",
    "        **inputs,\n",
    "        max_new_tokens=100,\n",
    "        do_sample=False,\n",
    "        pad_token_id=tokenizer.eos_token_id\n",
    "    )\n",
    "    return tokenizer.decode(outputs[0], skip_special_tokens=True)"
   ]
  },
  {
   "cell_type": "code",
   "execution_count": 15,
   "id": "4c1a3eb8",
   "metadata": {},
   "outputs": [
    {
     "name": "stdout",
     "output_type": "stream",
     "text": [
      "User: Translate English to Chinese: To be or not to be, that is the question.\n",
      "Assistant: 无论你是否要，那都是一个问题。\n"
     ]
    }
   ],
   "source": [
    "prompt = \"User: Translate English to Chinese: To be or not to be, that is the question.\\nAssistant:\"\n",
    "print(simple_translate(prompt))"
   ]
  },
  {
   "cell_type": "code",
   "execution_count": 16,
   "id": "28952cd8",
   "metadata": {},
   "outputs": [
    {
     "name": "stdout",
     "output_type": "stream",
     "text": [
      "User: Translate Chinese to English: 爱是一颗幸福的子弹\n",
      "Assistant: Love is a bullet of happiness\n"
     ]
    }
   ],
   "source": [
    "prompt = \"User: Translate Chinese to English: 爱是一颗幸福的子弹\\nAssistant:\"\n",
    "print(simple_translate(prompt))"
   ]
  },
  {
   "cell_type": "markdown",
   "id": "33ea332d",
   "metadata": {},
   "source": [
    "# Save"
   ]
  },
  {
   "cell_type": "code",
   "execution_count": null,
   "id": "911ac8a3",
   "metadata": {},
   "outputs": [],
   "source": [
    "model.push_to_hub(\"jingmingliu01/qwen2.5-lora-zh-en\")\n",
    "tokenizer.push_to_hub(\"jingmingliu01/qwen2.5-lora-zh-en\")"
   ]
  },
  {
   "cell_type": "code",
   "execution_count": null,
   "id": "947c38ff",
   "metadata": {},
   "outputs": [],
   "source": [
    "model.save_pretrained(\"qwen2.5-lora-zh-en-local\")\n",
    "tokenizer.save_pretrained(\"qwen2.5-lora-zh-en-local\")"
   ]
  }
 ],
 "metadata": {
  "kernelspec": {
   "display_name": "Python (env0)",
   "language": "python",
   "name": "env0"
  },
  "language_info": {
   "codemirror_mode": {
    "name": "ipython",
    "version": 3
   },
   "file_extension": ".py",
   "mimetype": "text/x-python",
   "name": "python",
   "nbconvert_exporter": "python",
   "pygments_lexer": "ipython3",
   "version": "3.11.11"
  }
 },
 "nbformat": 4,
 "nbformat_minor": 5
}
